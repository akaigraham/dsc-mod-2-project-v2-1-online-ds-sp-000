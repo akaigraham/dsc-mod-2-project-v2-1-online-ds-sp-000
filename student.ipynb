{
 "cells": [
  {
   "cell_type": "markdown",
   "metadata": {},
   "source": [
    "## Final Project Submission\n",
    "\n",
    "Please fill out:\n",
    "* Student name: Kai Graham\n",
    "* Student pace: self paced \n",
    "* Scheduled project review date/time: \n",
    "* Instructor name: Jeff Herman\n",
    "* Blog post URL:\n"
   ]
  },
  {
   "cell_type": "code",
   "execution_count": 115,
   "metadata": {},
   "outputs": [],
   "source": [
    "# Your code here - remember to use markdown cells for comments as well!\n",
    "# Predict housing prices to be used by PE shop looking to make purchases."
   ]
  },
  {
   "cell_type": "code",
   "execution_count": 116,
   "metadata": {},
   "outputs": [],
   "source": [
    "# import necessary libraries\n",
    "\n",
    "import pandas as pd\n",
    "import pandas.util.testing as tm #remove errors\n",
    "import numpy as np\n",
    "import matplotlib.pyplot as plt\n",
    "import seaborn as sns\n",
    "\n",
    "%matplotlib inline"
   ]
  },
  {
   "cell_type": "code",
   "execution_count": 117,
   "metadata": {},
   "outputs": [],
   "source": [
    "# import dataset\n",
    "\n",
    "data = pd.read_csv('kc_house_data.csv')"
   ]
  },
  {
   "cell_type": "code",
   "execution_count": 118,
   "metadata": {},
   "outputs": [
    {
     "name": "stdout",
     "output_type": "stream",
     "text": [
      "<class 'pandas.core.frame.DataFrame'>\n",
      "RangeIndex: 21597 entries, 0 to 21596\n",
      "Data columns (total 21 columns):\n",
      " #   Column         Non-Null Count  Dtype  \n",
      "---  ------         --------------  -----  \n",
      " 0   id             21597 non-null  int64  \n",
      " 1   date           21597 non-null  object \n",
      " 2   price          21597 non-null  float64\n",
      " 3   bedrooms       21597 non-null  int64  \n",
      " 4   bathrooms      21597 non-null  float64\n",
      " 5   sqft_living    21597 non-null  int64  \n",
      " 6   sqft_lot       21597 non-null  int64  \n",
      " 7   floors         21597 non-null  float64\n",
      " 8   waterfront     19221 non-null  float64\n",
      " 9   view           21534 non-null  float64\n",
      " 10  condition      21597 non-null  int64  \n",
      " 11  grade          21597 non-null  int64  \n",
      " 12  sqft_above     21597 non-null  int64  \n",
      " 13  sqft_basement  21597 non-null  object \n",
      " 14  yr_built       21597 non-null  int64  \n",
      " 15  yr_renovated   17755 non-null  float64\n",
      " 16  zipcode        21597 non-null  int64  \n",
      " 17  lat            21597 non-null  float64\n",
      " 18  long           21597 non-null  float64\n",
      " 19  sqft_living15  21597 non-null  int64  \n",
      " 20  sqft_lot15     21597 non-null  int64  \n",
      "dtypes: float64(8), int64(11), object(2)\n",
      "memory usage: 3.5+ MB\n"
     ]
    }
   ],
   "source": [
    "# look at dataset\n",
    "data.info()"
   ]
  },
  {
   "cell_type": "code",
   "execution_count": 119,
   "metadata": {},
   "outputs": [
    {
     "data": {
      "text/plain": [
       "count    2.159700e+04\n",
       "mean     5.402966e+05\n",
       "std      3.673681e+05\n",
       "min      7.800000e+04\n",
       "25%      3.220000e+05\n",
       "50%      4.500000e+05\n",
       "75%      6.450000e+05\n",
       "max      7.700000e+06\n",
       "Name: price, dtype: float64"
      ]
     },
     "execution_count": 119,
     "metadata": {},
     "output_type": "execute_result"
    }
   ],
   "source": [
    "# look at price to get a sense of what we want to predict and its distribution, etc.\n",
    "data['price'].describe()"
   ]
  },
  {
   "cell_type": "code",
   "execution_count": 120,
   "metadata": {},
   "outputs": [
    {
     "data": {
      "text/plain": [
       "<matplotlib.axes._subplots.AxesSubplot at 0x7ffdf3798518>"
      ]
     },
     "execution_count": 120,
     "metadata": {},
     "output_type": "execute_result"
    },
    {
     "data": {
      "image/png": "[encoded data removed]",
      "text/plain": [
       "<Figure size 432x288 with 1 Axes>"
      ]
     },
     "metadata": {
      "needs_background": "light"
     },
     "output_type": "display_data"
    }
   ],
   "source": [
    "data['price'].hist(bins='auto')"
   ]
  },
  {
   "cell_type": "markdown",
   "metadata": {},
   "source": [
    "75% of houses in the dataset are 645K or less. As an investor, looking to value houses for entry in the market, will be more focused on houses less than $1M (will go farther and allow money to go to work more)"
   ]
  },
  {
   "cell_type": "code",
   "execution_count": 121,
   "metadata": {},
   "outputs": [],
   "source": [
    "# remove all houses with prices greater than $1M\n",
    "houses_data = data.loc[data['price'] <= 1000000]"
   ]
  },
  {
   "cell_type": "code",
   "execution_count": 122,
   "metadata": {},
   "outputs": [
    {
     "name": "stdout",
     "output_type": "stream",
     "text": [
      "<class 'pandas.core.frame.DataFrame'>\n",
      "Int64Index: 20139 entries, 0 to 21596\n",
      "Data columns (total 21 columns):\n",
      " #   Column         Non-Null Count  Dtype  \n",
      "---  ------         --------------  -----  \n",
      " 0   id             20139 non-null  int64  \n",
      " 1   date           20139 non-null  object \n",
      " 2   price          20139 non-null  float64\n",
      " 3   bedrooms       20139 non-null  int64  \n",
      " 4   bathrooms      20139 non-null  float64\n",
      " 5   sqft_living    20139 non-null  int64  \n",
      " 6   sqft_lot       20139 non-null  int64  \n",
      " 7   floors         20139 non-null  float64\n",
      " 8   waterfront     17912 non-null  float64\n",
      " 9   view           20082 non-null  float64\n",
      " 10  condition      20139 non-null  int64  \n",
      " 11  grade          20139 non-null  int64  \n",
      " 12  sqft_above     20139 non-null  int64  \n",
      " 13  sqft_basement  20139 non-null  object \n",
      " 14  yr_built       20139 non-null  int64  \n",
      " 15  yr_renovated   16562 non-null  float64\n",
      " 16  zipcode        20139 non-null  int64  \n",
      " 17  lat            20139 non-null  float64\n",
      " 18  long           20139 non-null  float64\n",
      " 19  sqft_living15  20139 non-null  int64  \n",
      " 20  sqft_lot15     20139 non-null  int64  \n",
      "dtypes: float64(8), int64(11), object(2)\n",
      "memory usage: 3.4+ MB\n"
     ]
    }
   ],
   "source": [
    "houses_data.info()"
   ]
  },
  {
   "cell_type": "code",
   "execution_count": 123,
   "metadata": {},
   "outputs": [
    {
     "data": {
      "text/plain": [
       "<matplotlib.axes._subplots.AxesSubplot at 0x7ffdf398f588>"
      ]
     },
     "execution_count": 123,
     "metadata": {},
     "output_type": "execute_result"
    },
    {
     "data": {
      "image/png": "[encoded data removed]",
      "text/plain": [
       "<Figure size 432x288 with 1 Axes>"
      ]
     },
     "metadata": {
      "needs_background": "light"
     },
     "output_type": "display_data"
    }
   ],
   "source": [
    "# look at the histogram\n",
    "houses_data['price'].hist(bins='auto')"
   ]
  },
  {
   "cell_type": "code",
   "execution_count": 124,
   "metadata": {},
   "outputs": [
    {
     "data": {
      "text/plain": [
       "count      20139.000000\n",
       "mean      467970.857441\n",
       "std       196495.025672\n",
       "min        78000.000000\n",
       "25%       314700.000000\n",
       "50%       435000.000000\n",
       "75%       594000.000000\n",
       "max      1000000.000000\n",
       "Name: price, dtype: float64"
      ]
     },
     "execution_count": 124,
     "metadata": {},
     "output_type": "execute_result"
    }
   ],
   "source": [
    "houses_data['price'].describe()"
   ]
  },
  {
   "cell_type": "markdown",
   "metadata": {},
   "source": [
    "The median house price is still relatively inline with where it was before removing the upper set of houses"
   ]
  },
  {
   "cell_type": "code",
   "execution_count": 125,
   "metadata": {},
   "outputs": [
    {
     "data": {
      "text/plain": [
       "Index(['id', 'date', 'price', 'bedrooms', 'bathrooms', 'sqft_living',\n",
       "       'sqft_lot', 'floors', 'waterfront', 'view', 'condition', 'grade',\n",
       "       'sqft_above', 'sqft_basement', 'yr_built', 'yr_renovated', 'zipcode',\n",
       "       'lat', 'long', 'sqft_living15', 'sqft_lot15'],\n",
       "      dtype='object')"
      ]
     },
     "execution_count": 125,
     "metadata": {},
     "output_type": "execute_result"
    }
   ],
   "source": [
    "houses_data.columns"
   ]
  },
  {
   "cell_type": "code",
   "execution_count": 126,
   "metadata": {},
   "outputs": [],
   "source": [
    "# remove ID column as it is not relevant\n",
    "houses_data = houses_data.drop(columns='id')"
   ]
  },
  {
   "cell_type": "code",
   "execution_count": 127,
   "metadata": {},
   "outputs": [
    {
     "data": {
      "text/plain": [
       "Index(['date', 'price', 'bedrooms', 'bathrooms', 'sqft_living', 'sqft_lot',\n",
       "       'floors', 'waterfront', 'view', 'condition', 'grade', 'sqft_above',\n",
       "       'sqft_basement', 'yr_built', 'yr_renovated', 'zipcode', 'lat', 'long',\n",
       "       'sqft_living15', 'sqft_lot15'],\n",
       "      dtype='object')"
      ]
     },
     "execution_count": 127,
     "metadata": {},
     "output_type": "execute_result"
    }
   ],
   "source": [
    "houses_data.columns"
   ]
  },
  {
   "cell_type": "code",
   "execution_count": 128,
   "metadata": {},
   "outputs": [
    {
     "name": "stdout",
     "output_type": "stream",
     "text": [
      "<class 'pandas.core.frame.DataFrame'>\n",
      "Int64Index: 20139 entries, 0 to 21596\n",
      "Data columns (total 20 columns):\n",
      " #   Column         Non-Null Count  Dtype  \n",
      "---  ------         --------------  -----  \n",
      " 0   date           20139 non-null  object \n",
      " 1   price          20139 non-null  float64\n",
      " 2   bedrooms       20139 non-null  int64  \n",
      " 3   bathrooms      20139 non-null  float64\n",
      " 4   sqft_living    20139 non-null  int64  \n",
      " 5   sqft_lot       20139 non-null  int64  \n",
      " 6   floors         20139 non-null  float64\n",
      " 7   waterfront     17912 non-null  float64\n",
      " 8   view           20082 non-null  float64\n",
      " 9   condition      20139 non-null  int64  \n",
      " 10  grade          20139 non-null  int64  \n",
      " 11  sqft_above     20139 non-null  int64  \n",
      " 12  sqft_basement  20139 non-null  object \n",
      " 13  yr_built       20139 non-null  int64  \n",
      " 14  yr_renovated   16562 non-null  float64\n",
      " 15  zipcode        20139 non-null  int64  \n",
      " 16  lat            20139 non-null  float64\n",
      " 17  long           20139 non-null  float64\n",
      " 18  sqft_living15  20139 non-null  int64  \n",
      " 19  sqft_lot15     20139 non-null  int64  \n",
      "dtypes: float64(8), int64(10), object(2)\n",
      "memory usage: 3.2+ MB\n"
     ]
    }
   ],
   "source": [
    "houses_data.info()"
   ]
  },
  {
   "cell_type": "code",
   "execution_count": 129,
   "metadata": {},
   "outputs": [
    {
     "data": {
      "text/plain": [
       "2"
      ]
     },
     "execution_count": 129,
     "metadata": {},
     "output_type": "execute_result"
    }
   ],
   "source": [
    "# handle missing values - - waterfront, yr_renovated are the only columns missing values\n",
    "houses_data['waterfront'].nunique()"
   ]
  },
  {
   "cell_type": "code",
   "execution_count": 130,
   "metadata": {},
   "outputs": [
    {
     "data": {
      "text/plain": [
       "array([nan,  0.,  1.])"
      ]
     },
     "execution_count": 130,
     "metadata": {},
     "output_type": "execute_result"
    }
   ],
   "source": [
    "houses_data['waterfront'].unique()"
   ]
  },
  {
   "cell_type": "code",
   "execution_count": 131,
   "metadata": {},
   "outputs": [],
   "source": [
    "# assuming that NaNs in the waterfront column are related to houses that do not have waterfront\n",
    "# will relabel all NaNs as 0\n",
    "houses_data['waterfront'] = houses_data['waterfront'].fillna(value=0.)"
   ]
  },
  {
   "cell_type": "code",
   "execution_count": 132,
   "metadata": {},
   "outputs": [
    {
     "data": {
      "text/plain": [
       "False"
      ]
     },
     "execution_count": 132,
     "metadata": {},
     "output_type": "execute_result"
    }
   ],
   "source": [
    "# check there are no more missing values\n",
    "houses_data['waterfront'].isna().any()"
   ]
  },
  {
   "cell_type": "code",
   "execution_count": 133,
   "metadata": {},
   "outputs": [
    {
     "name": "stdout",
     "output_type": "stream",
     "text": [
      "<class 'pandas.core.frame.DataFrame'>\n",
      "Int64Index: 20139 entries, 0 to 21596\n",
      "Data columns (total 20 columns):\n",
      " #   Column         Non-Null Count  Dtype  \n",
      "---  ------         --------------  -----  \n",
      " 0   date           20139 non-null  object \n",
      " 1   price          20139 non-null  float64\n",
      " 2   bedrooms       20139 non-null  int64  \n",
      " 3   bathrooms      20139 non-null  float64\n",
      " 4   sqft_living    20139 non-null  int64  \n",
      " 5   sqft_lot       20139 non-null  int64  \n",
      " 6   floors         20139 non-null  float64\n",
      " 7   waterfront     20139 non-null  float64\n",
      " 8   view           20082 non-null  float64\n",
      " 9   condition      20139 non-null  int64  \n",
      " 10  grade          20139 non-null  int64  \n",
      " 11  sqft_above     20139 non-null  int64  \n",
      " 12  sqft_basement  20139 non-null  object \n",
      " 13  yr_built       20139 non-null  int64  \n",
      " 14  yr_renovated   16562 non-null  float64\n",
      " 15  zipcode        20139 non-null  int64  \n",
      " 16  lat            20139 non-null  float64\n",
      " 17  long           20139 non-null  float64\n",
      " 18  sqft_living15  20139 non-null  int64  \n",
      " 19  sqft_lot15     20139 non-null  int64  \n",
      "dtypes: float64(8), int64(10), object(2)\n",
      "memory usage: 3.2+ MB\n"
     ]
    }
   ],
   "source": [
    "houses_data.info()"
   ]
  },
  {
   "cell_type": "code",
   "execution_count": 134,
   "metadata": {},
   "outputs": [
    {
     "data": {
      "text/plain": [
       "70"
      ]
     },
     "execution_count": 134,
     "metadata": {},
     "output_type": "execute_result"
    }
   ],
   "source": [
    "# look at yr_renovated\n",
    "houses_data['yr_renovated'].nunique()"
   ]
  },
  {
   "cell_type": "code",
   "execution_count": 135,
   "metadata": {},
   "outputs": [
    {
     "data": {
      "text/plain": [
       "array([   0., 1991.,   nan, 2002., 2013., 1994., 1978., 2005., 2003.,\n",
       "       1984., 1954., 2014., 2011., 1983., 1945., 1990., 1988., 1977.,\n",
       "       1981., 1995., 2000., 1999., 1970., 1989., 2004., 1986., 2007.,\n",
       "       1987., 1985., 2001., 1980., 1992., 1971., 1979., 1997., 2010.,\n",
       "       1950., 1969., 1948., 2009., 2006., 2015., 1974., 2008., 2012.,\n",
       "       1968., 1963., 1951., 1962., 1953., 1993., 1998., 1996., 1955.,\n",
       "       1982., 1940., 1976., 1946., 1975., 1964., 1973., 1957., 1959.,\n",
       "       1960., 1956., 1967., 1965., 1934., 1972., 1944., 1958.])"
      ]
     },
     "execution_count": 135,
     "metadata": {},
     "output_type": "execute_result"
    }
   ],
   "source": [
    "houses_data['yr_renovated'].unique()"
   ]
  },
  {
   "cell_type": "code",
   "execution_count": 136,
   "metadata": {},
   "outputs": [],
   "source": [
    "# fill NaNs with 0.\n",
    "houses_data['yr_renovated'] = houses_data['yr_renovated'].fillna(value=0.)"
   ]
  },
  {
   "cell_type": "code",
   "execution_count": 137,
   "metadata": {},
   "outputs": [
    {
     "data": {
      "text/plain": [
       "date             False\n",
       "price            False\n",
       "bedrooms         False\n",
       "bathrooms        False\n",
       "sqft_living      False\n",
       "sqft_lot         False\n",
       "floors           False\n",
       "waterfront       False\n",
       "view              True\n",
       "condition        False\n",
       "grade            False\n",
       "sqft_above       False\n",
       "sqft_basement    False\n",
       "yr_built         False\n",
       "yr_renovated     False\n",
       "zipcode          False\n",
       "lat              False\n",
       "long             False\n",
       "sqft_living15    False\n",
       "sqft_lot15       False\n",
       "dtype: bool"
      ]
     },
     "execution_count": 137,
     "metadata": {},
     "output_type": "execute_result"
    }
   ],
   "source": [
    "# should be no more missing values\n",
    "houses_data.isna().any()"
   ]
  },
  {
   "cell_type": "code",
   "execution_count": 138,
   "metadata": {},
   "outputs": [
    {
     "data": {
      "text/plain": [
       "57"
      ]
     },
     "execution_count": 138,
     "metadata": {},
     "output_type": "execute_result"
    }
   ],
   "source": [
    "# view is missing some values - - how many are missing?\n",
    "houses_data['view'].isna().sum()"
   ]
  },
  {
   "cell_type": "code",
   "execution_count": 139,
   "metadata": {},
   "outputs": [
    {
     "data": {
      "text/plain": [
       "array([ 0., nan,  3.,  4.,  2.,  1.])"
      ]
     },
     "execution_count": 139,
     "metadata": {},
     "output_type": "execute_result"
    }
   ],
   "source": [
    "# only 57 are missing - - remove all entries without view\n",
    "houses_data['view'].unique()"
   ]
  },
  {
   "cell_type": "code",
   "execution_count": 140,
   "metadata": {},
   "outputs": [],
   "source": [
    "houses_data = houses_data.dropna()"
   ]
  },
  {
   "cell_type": "code",
   "execution_count": 141,
   "metadata": {},
   "outputs": [
    {
     "data": {
      "text/plain": [
       "date             False\n",
       "price            False\n",
       "bedrooms         False\n",
       "bathrooms        False\n",
       "sqft_living      False\n",
       "sqft_lot         False\n",
       "floors           False\n",
       "waterfront       False\n",
       "view             False\n",
       "condition        False\n",
       "grade            False\n",
       "sqft_above       False\n",
       "sqft_basement    False\n",
       "yr_built         False\n",
       "yr_renovated     False\n",
       "zipcode          False\n",
       "lat              False\n",
       "long             False\n",
       "sqft_living15    False\n",
       "sqft_lot15       False\n",
       "dtype: bool"
      ]
     },
     "execution_count": 141,
     "metadata": {},
     "output_type": "execute_result"
    }
   ],
   "source": [
    "houses_data.isna().any()"
   ]
  },
  {
   "cell_type": "code",
   "execution_count": 142,
   "metadata": {},
   "outputs": [
    {
     "data": {
      "text/plain": [
       "False"
      ]
     },
     "execution_count": 142,
     "metadata": {},
     "output_type": "execute_result"
    }
   ],
   "source": [
    "# no more missing values - - check for duplicates\n",
    "houses_data.duplicated().any()"
   ]
  },
  {
   "cell_type": "code",
   "execution_count": 143,
   "metadata": {},
   "outputs": [],
   "source": [
    "# no duplicates"
   ]
  },
  {
   "cell_type": "code",
   "execution_count": 144,
   "metadata": {},
   "outputs": [],
   "source": [
    "cat_vars = ['waterfront', 'condition']"
   ]
  },
  {
   "cell_type": "code",
   "execution_count": 145,
   "metadata": {},
   "outputs": [],
   "source": [
    "# handle categorical variables - - create dummy variables\n",
    "waterfront_dummies = pd.get_dummies(houses_data['waterfront'], prefix='wf', drop_first=True)\n",
    "condition_dummies = pd.get_dummies(houses_data['condition'], prefix='cond', drop_first=True)"
   ]
  },
  {
   "cell_type": "code",
   "execution_count": 146,
   "metadata": {},
   "outputs": [],
   "source": [
    "# remove original columns and add dummies\n",
    "houses_data = houses_data.drop(['waterfront', 'condition'], axis=1)"
   ]
  },
  {
   "cell_type": "code",
   "execution_count": 147,
   "metadata": {},
   "outputs": [],
   "source": [
    "houses_data = pd.concat([houses_data, waterfront_dummies, condition_dummies], axis=1)"
   ]
  },
  {
   "cell_type": "code",
   "execution_count": 148,
   "metadata": {},
   "outputs": [
    {
     "data": {
      "text/html": [
       "<div>\n",
       "<style scoped>\n",
       "    .dataframe tbody tr th:only-of-type {\n",
       "        vertical-align: middle;\n",
       "    }\n",
       "\n",
       "    .dataframe tbody tr th {\n",
       "        vertical-align: top;\n",
       "    }\n",
       "\n",
       "    .dataframe thead th {\n",
       "        text-align: right;\n",
       "    }\n",
       "</style>\n",
       "<table border=\"1\" class=\"dataframe\">\n",
       "  <thead>\n",
       "    <tr style=\"text-align: right;\">\n",
       "      <th></th>\n",
       "      <th>date</th>\n",
       "      <th>price</th>\n",
       "      <th>bedrooms</th>\n",
       "      <th>bathrooms</th>\n",
       "      <th>sqft_living</th>\n",
       "      <th>sqft_lot</th>\n",
       "      <th>floors</th>\n",
       "      <th>view</th>\n",
       "      <th>grade</th>\n",
       "      <th>sqft_above</th>\n",
       "      <th>...</th>\n",
       "      <th>zipcode</th>\n",
       "      <th>lat</th>\n",
       "      <th>long</th>\n",
       "      <th>sqft_living15</th>\n",
       "      <th>sqft_lot15</th>\n",
       "      <th>wf_1.0</th>\n",
       "      <th>cond_2</th>\n",
       "      <th>cond_3</th>\n",
       "      <th>cond_4</th>\n",
       "      <th>cond_5</th>\n",
       "    </tr>\n",
       "  </thead>\n",
       "  <tbody>\n",
       "    <tr>\n",
       "      <th>0</th>\n",
       "      <td>10/13/2014</td>\n",
       "      <td>221900.0</td>\n",
       "      <td>3</td>\n",
       "      <td>1.00</td>\n",
       "      <td>1180</td>\n",
       "      <td>5650</td>\n",
       "      <td>1.0</td>\n",
       "      <td>0.0</td>\n",
       "      <td>7</td>\n",
       "      <td>1180</td>\n",
       "      <td>...</td>\n",
       "      <td>98178</td>\n",
       "      <td>47.5112</td>\n",
       "      <td>-122.257</td>\n",
       "      <td>1340</td>\n",
       "      <td>5650</td>\n",
       "      <td>0</td>\n",
       "      <td>0</td>\n",
       "      <td>1</td>\n",
       "      <td>0</td>\n",
       "      <td>0</td>\n",
       "    </tr>\n",
       "    <tr>\n",
       "      <th>1</th>\n",
       "      <td>12/9/2014</td>\n",
       "      <td>538000.0</td>\n",
       "      <td>3</td>\n",
       "      <td>2.25</td>\n",
       "      <td>2570</td>\n",
       "      <td>7242</td>\n",
       "      <td>2.0</td>\n",
       "      <td>0.0</td>\n",
       "      <td>7</td>\n",
       "      <td>2170</td>\n",
       "      <td>...</td>\n",
       "      <td>98125</td>\n",
       "      <td>47.7210</td>\n",
       "      <td>-122.319</td>\n",
       "      <td>1690</td>\n",
       "      <td>7639</td>\n",
       "      <td>0</td>\n",
       "      <td>0</td>\n",
       "      <td>1</td>\n",
       "      <td>0</td>\n",
       "      <td>0</td>\n",
       "    </tr>\n",
       "    <tr>\n",
       "      <th>2</th>\n",
       "      <td>2/25/2015</td>\n",
       "      <td>180000.0</td>\n",
       "      <td>2</td>\n",
       "      <td>1.00</td>\n",
       "      <td>770</td>\n",
       "      <td>10000</td>\n",
       "      <td>1.0</td>\n",
       "      <td>0.0</td>\n",
       "      <td>6</td>\n",
       "      <td>770</td>\n",
       "      <td>...</td>\n",
       "      <td>98028</td>\n",
       "      <td>47.7379</td>\n",
       "      <td>-122.233</td>\n",
       "      <td>2720</td>\n",
       "      <td>8062</td>\n",
       "      <td>0</td>\n",
       "      <td>0</td>\n",
       "      <td>1</td>\n",
       "      <td>0</td>\n",
       "      <td>0</td>\n",
       "    </tr>\n",
       "    <tr>\n",
       "      <th>3</th>\n",
       "      <td>12/9/2014</td>\n",
       "      <td>604000.0</td>\n",
       "      <td>4</td>\n",
       "      <td>3.00</td>\n",
       "      <td>1960</td>\n",
       "      <td>5000</td>\n",
       "      <td>1.0</td>\n",
       "      <td>0.0</td>\n",
       "      <td>7</td>\n",
       "      <td>1050</td>\n",
       "      <td>...</td>\n",
       "      <td>98136</td>\n",
       "      <td>47.5208</td>\n",
       "      <td>-122.393</td>\n",
       "      <td>1360</td>\n",
       "      <td>5000</td>\n",
       "      <td>0</td>\n",
       "      <td>0</td>\n",
       "      <td>0</td>\n",
       "      <td>0</td>\n",
       "      <td>1</td>\n",
       "    </tr>\n",
       "    <tr>\n",
       "      <th>4</th>\n",
       "      <td>2/18/2015</td>\n",
       "      <td>510000.0</td>\n",
       "      <td>3</td>\n",
       "      <td>2.00</td>\n",
       "      <td>1680</td>\n",
       "      <td>8080</td>\n",
       "      <td>1.0</td>\n",
       "      <td>0.0</td>\n",
       "      <td>8</td>\n",
       "      <td>1680</td>\n",
       "      <td>...</td>\n",
       "      <td>98074</td>\n",
       "      <td>47.6168</td>\n",
       "      <td>-122.045</td>\n",
       "      <td>1800</td>\n",
       "      <td>7503</td>\n",
       "      <td>0</td>\n",
       "      <td>0</td>\n",
       "      <td>1</td>\n",
       "      <td>0</td>\n",
       "      <td>0</td>\n",
       "    </tr>\n",
       "  </tbody>\n",
       "</table>\n",
       "<p>5 rows × 23 columns</p>\n",
       "</div>"
      ],
      "text/plain": [
       "         date     price  bedrooms  bathrooms  sqft_living  sqft_lot  floors  \\\n",
       "0  10/13/2014  221900.0         3       1.00         1180      5650     1.0   \n",
       "1   12/9/2014  538000.0         3       2.25         2570      7242     2.0   \n",
       "2   2/25/2015  180000.0         2       1.00          770     10000     1.0   \n",
       "3   12/9/2014  604000.0         4       3.00         1960      5000     1.0   \n",
       "4   2/18/2015  510000.0         3       2.00         1680      8080     1.0   \n",
       "\n",
       "   view  grade  sqft_above  ... zipcode      lat     long  sqft_living15  \\\n",
       "0   0.0      7        1180  ...   98178  47.5112 -122.257           1340   \n",
       "1   0.0      7        2170  ...   98125  47.7210 -122.319           1690   \n",
       "2   0.0      6         770  ...   98028  47.7379 -122.233           2720   \n",
       "3   0.0      7        1050  ...   98136  47.5208 -122.393           1360   \n",
       "4   0.0      8        1680  ...   98074  47.6168 -122.045           1800   \n",
       "\n",
       "   sqft_lot15  wf_1.0  cond_2  cond_3  cond_4  cond_5  \n",
       "0        5650       0       0       1       0       0  \n",
       "1        7639       0       0       1       0       0  \n",
       "2        8062       0       0       1       0       0  \n",
       "3        5000       0       0       0       0       1  \n",
       "4        7503       0       0       1       0       0  \n",
       "\n",
       "[5 rows x 23 columns]"
      ]
     },
     "execution_count": 148,
     "metadata": {},
     "output_type": "execute_result"
    }
   ],
   "source": [
    "houses_data.head()"
   ]
  },
  {
   "cell_type": "code",
   "execution_count": 149,
   "metadata": {},
   "outputs": [
    {
     "name": "stdout",
     "output_type": "stream",
     "text": [
      "<class 'pandas.core.frame.DataFrame'>\n",
      "Int64Index: 20082 entries, 0 to 21596\n",
      "Data columns (total 23 columns):\n",
      " #   Column         Non-Null Count  Dtype  \n",
      "---  ------         --------------  -----  \n",
      " 0   date           20082 non-null  object \n",
      " 1   price          20082 non-null  float64\n",
      " 2   bedrooms       20082 non-null  int64  \n",
      " 3   bathrooms      20082 non-null  float64\n",
      " 4   sqft_living    20082 non-null  int64  \n",
      " 5   sqft_lot       20082 non-null  int64  \n",
      " 6   floors         20082 non-null  float64\n",
      " 7   view           20082 non-null  float64\n",
      " 8   grade          20082 non-null  int64  \n",
      " 9   sqft_above     20082 non-null  int64  \n",
      " 10  sqft_basement  20082 non-null  object \n",
      " 11  yr_built       20082 non-null  int64  \n",
      " 12  yr_renovated   20082 non-null  float64\n",
      " 13  zipcode        20082 non-null  int64  \n",
      " 14  lat            20082 non-null  float64\n",
      " 15  long           20082 non-null  float64\n",
      " 16  sqft_living15  20082 non-null  int64  \n",
      " 17  sqft_lot15     20082 non-null  int64  \n",
      " 18  wf_1.0         20082 non-null  uint8  \n",
      " 19  cond_2         20082 non-null  uint8  \n",
      " 20  cond_3         20082 non-null  uint8  \n",
      " 21  cond_4         20082 non-null  uint8  \n",
      " 22  cond_5         20082 non-null  uint8  \n",
      "dtypes: float64(7), int64(9), object(2), uint8(5)\n",
      "memory usage: 3.0+ MB\n"
     ]
    }
   ],
   "source": [
    "houses_data.info()"
   ]
  },
  {
   "cell_type": "code",
   "execution_count": 150,
   "metadata": {},
   "outputs": [
    {
     "data": {
      "text/plain": [
       "array(['0.0', '400.0', '910.0', '?', '730.0', '1700.0', '300.0', '970.0',\n",
       "       '760.0', '700.0', '820.0', '780.0', '790.0', '330.0', '1620.0',\n",
       "       '360.0', '1510.0', '410.0', '990.0', '600.0', '560.0', '550.0',\n",
       "       '1000.0', '500.0', '1040.0', '880.0', '1010.0', '240.0', '265.0',\n",
       "       '290.0', '800.0', '540.0', '840.0', '380.0', '480.0', '570.0',\n",
       "       '1490.0', '620.0', '1250.0', '1270.0', '120.0', '650.0', '180.0',\n",
       "       '1130.0', '450.0', '1460.0', '1020.0', '1030.0', '750.0', '640.0',\n",
       "       '1070.0', '490.0', '1310.0', '630.0', '390.0', '430.0', '210.0',\n",
       "       '440.0', '220.0', '1160.0', '860.0', '580.0', '2060.0', '1180.0',\n",
       "       '200.0', '1150.0', '680.0', '530.0', '1450.0', '1170.0', '1080.0',\n",
       "       '960.0', '870.0', '280.0', '1200.0', '1100.0', '460.0', '770.0',\n",
       "       '1400.0', '720.0', '660.0', '1220.0', '900.0', '420.0', '1580.0',\n",
       "       '1380.0', '475.0', '690.0', '270.0', '350.0', '1370.0', '850.0',\n",
       "       '1470.0', '160.0', '950.0', '50.0', '740.0', '710.0', '1900.0',\n",
       "       '340.0', '470.0', '370.0', '140.0', '1760.0', '130.0', '520.0',\n",
       "       '890.0', '150.0', '1720.0', '810.0', '190.0', '670.0', '1110.0',\n",
       "       '1810.0', '60.0', '1050.0', '940.0', '310.0', '930.0', '1390.0',\n",
       "       '610.0', '1300.0', '510.0', '1330.0', '1590.0', '920.0', '1320.0',\n",
       "       '1420.0', '1240.0', '1190.0', '2110.0', '1280.0', '250.0',\n",
       "       '1230.0', '170.0', '830.0', '1260.0', '1340.0', '590.0', '1500.0',\n",
       "       '1140.0', '1800.0', '260.0', '100.0', '320.0', '1480.0', '1060.0',\n",
       "       '1284.0', '1670.0', '1350.0', '1120.0', '1090.0', '110.0', '980.0',\n",
       "       '90.0', '1550.0', '1481.0', '1135.0', '1520.0', '1850.0', '1830.0',\n",
       "       '1660.0', '1690.0', '243.0', '1210.0', '1780.0', '1600.0',\n",
       "       '1430.0', '1024.0', '1798.0', '1610.0', '1440.0', '1290.0',\n",
       "       '1570.0', '704.0', '1910.0', '2090.0', '2400.0', '1790.0',\n",
       "       '2150.0', '230.0', '1360.0', '70.0', '1410.0', '1640.0', '2030.0',\n",
       "       '875.0', '1540.0', '1710.0', '506.0', '906.0', '1560.0', '145.0',\n",
       "       '1530.0', '2040.0', '784.0', '1750.0', '374.0', '518.0', '2720.0',\n",
       "       '1840.0', '2160.0', '1650.0', '1913.0', '80.0', '2010.0', '1940.0',\n",
       "       '2200.0', '415.0', '652.0', '2100.0', '2196.0', '1930.0', '40.0',\n",
       "       '1548.0', '1740.0', '1630.0', '235.0', '1860.0', '861.0', '792.0',\n",
       "       '2070.0', '1680.0', '1990.0', '2170.0', '768.0', '515.0', '2080.0',\n",
       "       '435.0', '1008.0', '2300.0', '1890.0', '666.0', '172.0', '2000.0',\n",
       "       '2190.0', '1245.0', '1525.0', '2220.0', '1730.0', '862.0', '946.0',\n",
       "       '1281.0', '414.0', '276.0', '1248.0', '602.0', '516.0', '176.0',\n",
       "       '225.0', '1275.0', '266.0', '283.0', '65.0', '10.0', '295.0',\n",
       "       '1870.0', '207.0', '915.0', '556.0', '417.0', '143.0', '508.0',\n",
       "       '20.0', '274.0', '248.0'], dtype=object)"
      ]
     },
     "execution_count": 150,
     "metadata": {},
     "output_type": "execute_result"
    }
   ],
   "source": [
    "# handle strings - - convert to appropriate types\n",
    "houses_data['sqft_basement'].unique()"
   ]
  },
  {
   "cell_type": "code",
   "execution_count": 151,
   "metadata": {},
   "outputs": [
    {
     "data": {
      "text/plain": [
       "date             19660\n",
       "price            19660\n",
       "bedrooms         19660\n",
       "bathrooms        19660\n",
       "sqft_living      19660\n",
       "sqft_lot         19660\n",
       "floors           19660\n",
       "view             19660\n",
       "grade            19660\n",
       "sqft_above       19660\n",
       "sqft_basement    19660\n",
       "yr_built         19660\n",
       "yr_renovated     19660\n",
       "zipcode          19660\n",
       "lat              19660\n",
       "long             19660\n",
       "sqft_living15    19660\n",
       "sqft_lot15       19660\n",
       "wf_1.0           19660\n",
       "cond_2           19660\n",
       "cond_3           19660\n",
       "cond_4           19660\n",
       "cond_5           19660\n",
       "dtype: int64"
      ]
     },
     "execution_count": 151,
     "metadata": {},
     "output_type": "execute_result"
    }
   ],
   "source": [
    "# need to remove the entries with ?\n",
    "# check how many there are\n",
    "houses_data.loc[houses_data['sqft_basement'] != '?'].count()"
   ]
  },
  {
   "cell_type": "code",
   "execution_count": 152,
   "metadata": {},
   "outputs": [],
   "source": [
    "# only 422 entries out of 20,000 - - remove these\n",
    "houses_data = houses_data.loc[houses_data['sqft_basement'] != '?']"
   ]
  },
  {
   "cell_type": "code",
   "execution_count": 153,
   "metadata": {},
   "outputs": [
    {
     "name": "stdout",
     "output_type": "stream",
     "text": [
      "<class 'pandas.core.frame.DataFrame'>\n",
      "Int64Index: 19660 entries, 0 to 21596\n",
      "Data columns (total 23 columns):\n",
      " #   Column         Non-Null Count  Dtype  \n",
      "---  ------         --------------  -----  \n",
      " 0   date           19660 non-null  object \n",
      " 1   price          19660 non-null  float64\n",
      " 2   bedrooms       19660 non-null  int64  \n",
      " 3   bathrooms      19660 non-null  float64\n",
      " 4   sqft_living    19660 non-null  int64  \n",
      " 5   sqft_lot       19660 non-null  int64  \n",
      " 6   floors         19660 non-null  float64\n",
      " 7   view           19660 non-null  float64\n",
      " 8   grade          19660 non-null  int64  \n",
      " 9   sqft_above     19660 non-null  int64  \n",
      " 10  sqft_basement  19660 non-null  object \n",
      " 11  yr_built       19660 non-null  int64  \n",
      " 12  yr_renovated   19660 non-null  float64\n",
      " 13  zipcode        19660 non-null  int64  \n",
      " 14  lat            19660 non-null  float64\n",
      " 15  long           19660 non-null  float64\n",
      " 16  sqft_living15  19660 non-null  int64  \n",
      " 17  sqft_lot15     19660 non-null  int64  \n",
      " 18  wf_1.0         19660 non-null  uint8  \n",
      " 19  cond_2         19660 non-null  uint8  \n",
      " 20  cond_3         19660 non-null  uint8  \n",
      " 21  cond_4         19660 non-null  uint8  \n",
      " 22  cond_5         19660 non-null  uint8  \n",
      "dtypes: float64(7), int64(9), object(2), uint8(5)\n",
      "memory usage: 2.9+ MB\n"
     ]
    }
   ],
   "source": [
    "houses_data.info()"
   ]
  },
  {
   "cell_type": "code",
   "execution_count": 155,
   "metadata": {},
   "outputs": [],
   "source": [
    "# now need to convert basement column to a number format\n",
    "houses_data['sqft_basement'] = houses_data['sqft_basement'].astype('float64')"
   ]
  },
  {
   "cell_type": "code",
   "execution_count": 156,
   "metadata": {},
   "outputs": [
    {
     "name": "stdout",
     "output_type": "stream",
     "text": [
      "<class 'pandas.core.frame.DataFrame'>\n",
      "Int64Index: 19660 entries, 0 to 21596\n",
      "Data columns (total 23 columns):\n",
      " #   Column         Non-Null Count  Dtype  \n",
      "---  ------         --------------  -----  \n",
      " 0   date           19660 non-null  object \n",
      " 1   price          19660 non-null  float64\n",
      " 2   bedrooms       19660 non-null  int64  \n",
      " 3   bathrooms      19660 non-null  float64\n",
      " 4   sqft_living    19660 non-null  int64  \n",
      " 5   sqft_lot       19660 non-null  int64  \n",
      " 6   floors         19660 non-null  float64\n",
      " 7   view           19660 non-null  float64\n",
      " 8   grade          19660 non-null  int64  \n",
      " 9   sqft_above     19660 non-null  int64  \n",
      " 10  sqft_basement  19660 non-null  float64\n",
      " 11  yr_built       19660 non-null  int64  \n",
      " 12  yr_renovated   19660 non-null  float64\n",
      " 13  zipcode        19660 non-null  int64  \n",
      " 14  lat            19660 non-null  float64\n",
      " 15  long           19660 non-null  float64\n",
      " 16  sqft_living15  19660 non-null  int64  \n",
      " 17  sqft_lot15     19660 non-null  int64  \n",
      " 18  wf_1.0         19660 non-null  uint8  \n",
      " 19  cond_2         19660 non-null  uint8  \n",
      " 20  cond_3         19660 non-null  uint8  \n",
      " 21  cond_4         19660 non-null  uint8  \n",
      " 22  cond_5         19660 non-null  uint8  \n",
      "dtypes: float64(8), int64(9), object(1), uint8(5)\n",
      "memory usage: 2.9+ MB\n"
     ]
    }
   ],
   "source": [
    "houses_data.info()"
   ]
  },
  {
   "cell_type": "code",
   "execution_count": null,
   "metadata": {},
   "outputs": [],
   "source": [
    "# now the only string column we have is the date column\n",
    "# begin visualizations and plotting against price to see which may be solid predictors to begin with and \n",
    "# which may need log normalization, etc.\n",
    "# will need to normalize / scale\n"
   ]
  }
 ],
 "metadata": {
  "kernelspec": {
   "display_name": "Python 3",
   "language": "python",
   "name": "python3"
  },
  "language_info": {
   "codemirror_mode": {
    "name": "ipython",
    "version": 3
   },
   "file_extension": ".py",
   "mimetype": "text/x-python",
   "name": "python",
   "nbconvert_exporter": "python",
   "pygments_lexer": "ipython3",
   "version": "3.6.9"
  }
 },
 "nbformat": 4,
 "nbformat_minor": 2
}
